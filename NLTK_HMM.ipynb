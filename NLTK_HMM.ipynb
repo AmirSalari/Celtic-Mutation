{
  "cells": [
    {
      "cell_type": "code",
      "execution_count": null,
      "metadata": {
        "scrolled": true,
        "id": "nXMcsV_ejbeR",
        "colab": {
          "base_uri": "https://localhost:8080/"
        },
        "outputId": "b205af1a-3414-466c-e831-c3ffd9f5a843"
      },
      "outputs": [
        {
          "output_type": "stream",
          "name": "stderr",
          "text": [
            "[nltk_data] Downloading package brown to /root/nltk_data...\n",
            "[nltk_data]   Unzipping corpora/brown.zip.\n",
            "[nltk_data] Downloading package punkt to /root/nltk_data...\n",
            "[nltk_data]   Unzipping tokenizers/punkt.zip.\n",
            "[nltk_data] Downloading package universal_tagset to /root/nltk_data...\n",
            "[nltk_data]   Unzipping taggers/universal_tagset.zip.\n"
          ]
        }
      ],
      "source": [
        "import nltk\n",
        "nltk.download('brown')\n",
        "nltk.download('punkt')\n",
        "nltk.download('universal_tagset')\n",
        "brownwords = nltk.corpus.brown.tagged_words(categories='news', tagset='universal')"
      ]
    },
    {
      "cell_type": "code",
      "execution_count": null,
      "metadata": {
        "id": "C447Cj1CjbeT",
        "colab": {
          "base_uri": "https://localhost:8080/"
        },
        "outputId": "0084e475-2a6d-4d10-abea-7193e0b877e9"
      },
      "outputs": [
        {
          "output_type": "execute_result",
          "data": {
            "text/plain": [
              "100554"
            ]
          },
          "metadata": {},
          "execution_count": 2
        }
      ],
      "source": [
        "len(brownwords)"
      ]
    },
    {
      "cell_type": "code",
      "execution_count": null,
      "metadata": {
        "id": "NIes5DYojbeT",
        "colab": {
          "base_uri": "https://localhost:8080/"
        },
        "outputId": "403f86de-bbd5-48b1-8a2f-a39d52f8f656"
      },
      "outputs": [
        {
          "output_type": "execute_result",
          "data": {
            "text/plain": [
              "[('workers', 'NOUN'),\n",
              " ('would', 'VERB'),\n",
              " ('be', 'VERB'),\n",
              " ('raised', 'VERB'),\n",
              " ('to', 'PRT'),\n",
              " ('pay', 'VERB'),\n",
              " ('the', 'DET'),\n",
              " ('hospital', 'NOUN'),\n",
              " ('and', 'CONJ'),\n",
              " ('some', 'DET'),\n",
              " ('other', 'ADJ'),\n",
              " ('medical', 'ADJ'),\n",
              " ('bills', 'NOUN'),\n",
              " ('of', 'ADP'),\n",
              " ('14.2', 'NUM')]"
            ]
          },
          "metadata": {},
          "execution_count": 3
        }
      ],
      "source": [
        "brownwords[5425:5440]"
      ]
    },
    {
      "cell_type": "code",
      "execution_count": null,
      "metadata": {
        "id": "2d6maYl2jbeT"
      },
      "outputs": [],
      "source": [
        "fd = nltk.FreqDist(tag for (word,tag) in brownwords)"
      ]
    },
    {
      "cell_type": "code",
      "execution_count": null,
      "metadata": {
        "scrolled": true,
        "id": "fOJW-5zzjbeT",
        "colab": {
          "base_uri": "https://localhost:8080/"
        },
        "outputId": "a384bed4-d634-472f-e3d1-f24a8345a3a0"
      },
      "outputs": [
        {
          "output_type": "stream",
          "name": "stdout",
          "text": [
            "Number of nouns: 30654\n",
            "Number of adjectives: 6706\n"
          ]
        }
      ],
      "source": [
        "print('Number of nouns:',fd['NOUN'])\n",
        "print('Number of adjectives:',fd['ADJ'])"
      ]
    },
    {
      "cell_type": "code",
      "execution_count": null,
      "metadata": {
        "id": "OVyRPlVKjbeU",
        "colab": {
          "base_uri": "https://localhost:8080/"
        },
        "outputId": "29fae035-1075-4780-a28e-063c7e1d7fad"
      },
      "outputs": [
        {
          "output_type": "execute_result",
          "data": {
            "text/plain": [
              "[('It', 'NOUN'),\n",
              " ('could', 'NOUN'),\n",
              " ('be', 'NOUN'),\n",
              " ('that', 'NOUN'),\n",
              " ('it', 'NOUN'),\n",
              " ('rained', 'NOUN'),\n",
              " (',', 'NOUN'),\n",
              " ('or', 'NOUN'),\n",
              " ('is', 'NOUN'),\n",
              " ('raining', 'NOUN'),\n",
              " ('heavily', 'NOUN'),\n",
              " ('.', 'NOUN')]"
            ]
          },
          "metadata": {},
          "execution_count": 6
        }
      ],
      "source": [
        "# we can create our own tagger; start with some baselines!\n",
        "bad_tagger = nltk.DefaultTagger('NOUN')\n",
        "text = nltk.word_tokenize('It could be that it rained, or is raining heavily.')\n",
        "bad_tagger.tag(text)"
      ]
    },
    {
      "cell_type": "code",
      "execution_count": null,
      "metadata": {
        "id": "ZOyk1vuMjbeU",
        "colab": {
          "base_uri": "https://localhost:8080/"
        },
        "outputId": "c683fe65-32e9-46c7-a5a7-a4a80c20dbf1"
      },
      "outputs": [
        {
          "output_type": "execute_result",
          "data": {
            "text/plain": [
              "0.30485112476878096"
            ]
          },
          "metadata": {},
          "execution_count": 7
        }
      ],
      "source": [
        "# nltk can evaluate the tagger, but we need it represented as tagged sentences:\n",
        "brownsentences = nltk.corpus.brown.tagged_sents(categories='news', tagset='universal')\n",
        "bad_tagger.accuracy(brownsentences)"
      ]
    },
    {
      "cell_type": "code",
      "execution_count": null,
      "metadata": {
        "scrolled": true,
        "id": "OL-50Xi5jbeU",
        "colab": {
          "base_uri": "https://localhost:8080/"
        },
        "outputId": "9673ca0e-bfb8-4ee3-ca2e-b75506a51bfe"
      },
      "outputs": [
        {
          "output_type": "execute_result",
          "data": {
            "text/plain": [
              "[('It', 'NOUN'),\n",
              " ('could', 'VERB'),\n",
              " ('be', 'NOUN'),\n",
              " ('that', 'NOUN'),\n",
              " ('it', 'NOUN'),\n",
              " ('rained', 'VERB'),\n",
              " (',', 'PUNCT'),\n",
              " ('or', 'NOUN'),\n",
              " ('is', 'NOUN'),\n",
              " ('raining', 'VERB'),\n",
              " ('heavily', 'ADV'),\n",
              " ('.', 'PUNCT')]"
            ]
          },
          "metadata": {},
          "execution_count": 8
        }
      ],
      "source": [
        "# rule based tagger!\n",
        "patterns = [\n",
        "    (r'.*ly$', 'ADV'),\n",
        "    (r'.*ing$', 'VERB'),\n",
        "    (r'.*ed$', 'VERB'),\n",
        "    (r'.*ould$', 'VERB'),\n",
        "    (r'^[.]$', 'PUNCT'),\n",
        "    (r'^[,]$', 'PUNCT'),\n",
        "    (r'.*$', 'NOUN'),\n",
        "]\n",
        "rule_tagger = nltk.RegexpTagger(patterns)\n",
        "rule_tagger.tag(text)"
      ]
    },
    {
      "cell_type": "code",
      "execution_count": null,
      "metadata": {
        "scrolled": true,
        "id": "Y1vJgw5bjbeV",
        "colab": {
          "base_uri": "https://localhost:8080/"
        },
        "outputId": "d5154a4c-0d5f-4d48-dcfc-1c5b4b2c543c"
      },
      "outputs": [
        {
          "output_type": "execute_result",
          "data": {
            "text/plain": [
              "0.3580464228175905"
            ]
          },
          "metadata": {},
          "execution_count": 9
        }
      ],
      "source": [
        "rule_tagger.accuracy(brownsentences)"
      ]
    },
    {
      "cell_type": "code",
      "execution_count": null,
      "metadata": {
        "id": "TaC-K4qhjbeV"
      },
      "outputs": [],
      "source": [
        "cfd = nltk.ConditionalFreqDist(brownwords)"
      ]
    },
    {
      "cell_type": "code",
      "execution_count": null,
      "metadata": {
        "scrolled": true,
        "id": "yB8wHD_cjbeV",
        "colab": {
          "base_uri": "https://localhost:8080/"
        },
        "outputId": "b25a2520-7413-4bf3-fe86-2af9af987517"
      },
      "outputs": [
        {
          "output_type": "stream",
          "name": "stdout",
          "text": [
            "5580\n"
          ]
        }
      ],
      "source": [
        "print(cfd['the']['DET'])"
      ]
    },
    {
      "cell_type": "code",
      "execution_count": null,
      "metadata": {
        "id": "BA7Qu65OjbeW",
        "colab": {
          "base_uri": "https://localhost:8080/"
        },
        "outputId": "b558a915-1874-445c-e35e-cfb28d336bdb"
      },
      "outputs": [
        {
          "output_type": "stream",
          "name": "stdout",
          "text": [
            "dict_keys(['NOUN', 'VERB'])\n"
          ]
        }
      ],
      "source": [
        "print(cfd['pay'].keys())"
      ]
    },
    {
      "cell_type": "code",
      "execution_count": null,
      "metadata": {
        "scrolled": false,
        "id": "JLGsGzpajbeW",
        "colab": {
          "base_uri": "https://localhost:8080/"
        },
        "outputId": "b9c14a38-3c9c-442d-ac2f-58205dade274"
      },
      "outputs": [
        {
          "output_type": "stream",
          "name": "stdout",
          "text": [
            "5\n",
            "28\n"
          ]
        }
      ],
      "source": [
        "print(cfd['pay']['NOUN'])\n",
        "print(cfd['pay']['VERB'])"
      ]
    },
    {
      "cell_type": "code",
      "execution_count": null,
      "metadata": {
        "id": "PG3VnW_MjbeW"
      },
      "outputs": [],
      "source": [
        "justwords = nltk.FreqDist(nltk.corpus.brown.words(categories='news')).keys()\n",
        "best_tags = dict((w, cfd[w].max()) for w in justwords)"
      ]
    },
    {
      "cell_type": "code",
      "execution_count": null,
      "metadata": {
        "scrolled": true,
        "id": "Gcnvimx7jbeW",
        "colab": {
          "base_uri": "https://localhost:8080/"
        },
        "outputId": "4128c04a-04c1-4992-b4ee-ff7906f52608"
      },
      "outputs": [
        {
          "output_type": "stream",
          "name": "stdout",
          "text": [
            "Most frequent tag for \"the\": DET\n",
            "Most frequent tag for \"pay\": VERB\n"
          ]
        }
      ],
      "source": [
        "print('Most frequent tag for \"the\":', best_tags['the'])\n",
        "print('Most frequent tag for \"pay\":', best_tags['pay'])"
      ]
    },
    {
      "cell_type": "code",
      "execution_count": null,
      "metadata": {
        "scrolled": true,
        "id": "Xu5lYoChjbeW",
        "colab": {
          "base_uri": "https://localhost:8080/"
        },
        "outputId": "f5392fa8-815d-4896-98e1-0c08537cb508"
      },
      "outputs": [
        {
          "output_type": "execute_result",
          "data": {
            "text/plain": [
              "0.8451111332602412"
            ]
          },
          "metadata": {},
          "execution_count": 16
        }
      ],
      "source": [
        "split = int(len(brownsentences)*0.9)\n",
        "train = brownsentences[:split]\n",
        "test = brownsentences[split:]\n",
        "unigram_tagger = nltk.UnigramTagger(train)\n",
        "unigram_tagger.accuracy(test)"
      ]
    },
    {
      "cell_type": "code",
      "execution_count": null,
      "metadata": {
        "scrolled": true,
        "id": "Rq2dtF2YjbeW",
        "colab": {
          "base_uri": "https://localhost:8080/"
        },
        "outputId": "fdc0c9ee-e153-4f11-b555-d6fad3d9003f"
      },
      "outputs": [
        {
          "output_type": "execute_result",
          "data": {
            "text/plain": [
              "0.9304295823781521"
            ]
          },
          "metadata": {},
          "execution_count": 17
        }
      ],
      "source": [
        "better_tagger = nltk.UnigramTagger(train, backoff=rule_tagger)\n",
        "better_tagger.accuracy(test)"
      ]
    },
    {
      "cell_type": "code",
      "execution_count": null,
      "metadata": {
        "scrolled": true,
        "id": "tGb8AlI1jbeX",
        "colab": {
          "base_uri": "https://localhost:8080/"
        },
        "outputId": "1852154c-6685-4560-baaf-8a60fafcedcd"
      },
      "outputs": [
        {
          "output_type": "stream",
          "name": "stdout",
          "text": [
            "5030\n",
            "26\n"
          ]
        }
      ],
      "source": [
        "flipped = [(t,w) for sent in train for (w,t) in sent]\n",
        "wordgiventag = nltk.ConditionalFreqDist(flipped)\n",
        "# check same counts as above, but just training data:\n",
        "print(wordgiventag['DET']['the'])\n",
        "print(wordgiventag['VERB']['pay'])"
      ]
    },
    {
      "cell_type": "code",
      "execution_count": null,
      "metadata": {
        "scrolled": true,
        "id": "lDMC06HIjbeX",
        "colab": {
          "base_uri": "https://localhost:8080/"
        },
        "outputId": "35425194-fca0-4c25-9845-ee263d405f51"
      },
      "outputs": [
        {
          "output_type": "stream",
          "name": "stdout",
          "text": [
            "P(the|DET) = 0.4911629723659799\n",
            "P(is|VERB) = 0.05013518733101584\n",
            "P(pay|VERB) = 0.0020084974893781384\n"
          ]
        }
      ],
      "source": [
        "# this is P(w|t), unsmoothed!\n",
        "def P(w,t):\n",
        "    return wordgiventag[t][w] / wordgiventag[t].N()\n",
        "\n",
        "print('P(the|DET) =', P('the','DET'))\n",
        "print('P(is|VERB) =', P('is','VERB'))\n",
        "print('P(pay|VERB) =', P('pay','VERB'))"
      ]
    },
    {
      "cell_type": "code",
      "execution_count": null,
      "metadata": {
        "id": "nTbxRgTajbeX"
      },
      "outputs": [],
      "source": [
        "tag_bigrams = [(x,y) for sent in train for x,y in nltk.bigrams([t for (w,t) in sent])]"
      ]
    },
    {
      "cell_type": "code",
      "execution_count": null,
      "metadata": {
        "scrolled": true,
        "id": "u85DP8VIjbeX",
        "colab": {
          "base_uri": "https://localhost:8080/"
        },
        "outputId": "1a3c35e8-bde4-409d-db6e-fbc6aad46a43"
      },
      "outputs": [
        {
          "output_type": "execute_result",
          "data": {
            "text/plain": [
              "[('DET', 'NOUN'),\n",
              " ('NOUN', 'NOUN'),\n",
              " ('NOUN', 'ADJ'),\n",
              " ('ADJ', 'NOUN'),\n",
              " ('NOUN', 'VERB'),\n",
              " ('VERB', 'NOUN'),\n",
              " ('NOUN', 'DET'),\n",
              " ('DET', 'NOUN'),\n",
              " ('NOUN', 'ADP'),\n",
              " ('ADP', 'NOUN')]"
            ]
          },
          "metadata": {},
          "execution_count": 22
        }
      ],
      "source": [
        "tag_bigrams[:10]"
      ]
    },
    {
      "cell_type": "code",
      "execution_count": null,
      "metadata": {
        "scrolled": true,
        "id": "7j3qQ-ZMjbeX",
        "colab": {
          "base_uri": "https://localhost:8080/"
        },
        "outputId": "0bd1ef7a-dfce-4f1a-d024-b411d0279f36"
      },
      "outputs": [
        {
          "output_type": "stream",
          "name": "stdout",
          "text": [
            "4250\n",
            "482\n"
          ]
        }
      ],
      "source": [
        "tag_bigram_counts = nltk.ConditionalFreqDist(tag_bigrams)\n",
        "# this is count of noun tags following adjective tags (normal order in English)\n",
        "print(tag_bigram_counts['ADJ']['NOUN'])\n",
        "# this is count of adjective tags following noun tags\n",
        "print(tag_bigram_counts['NOUN']['ADJ'])"
      ]
    },
    {
      "cell_type": "code",
      "execution_count": null,
      "metadata": {
        "scrolled": true,
        "id": "_oPldaTyjbeX",
        "colab": {
          "base_uri": "https://localhost:8080/"
        },
        "outputId": "3cbcc1b1-1563-4ce6-e491-219e3f9bcd06"
      },
      "outputs": [
        {
          "output_type": "stream",
          "name": "stdout",
          "text": [
            "P(NOUN|ADJ) = 0.7123700972175662\n",
            "P(NOUN|DET) = 0.6479781207267045\n"
          ]
        }
      ],
      "source": [
        "# this is P(t2|t1), unsmoothed again!\n",
        "def tagP(t2,t1):\n",
        "    return tag_bigram_counts[t1][t2] / tag_bigram_counts[t1].N()\n",
        "print('P(NOUN|ADJ) =',tagP('NOUN','ADJ'))\n",
        "print('P(NOUN|DET) =',tagP('NOUN','DET'))"
      ]
    },
    {
      "cell_type": "code",
      "execution_count": null,
      "metadata": {
        "scrolled": false,
        "id": "UPyqJpUVjbeY",
        "colab": {
          "base_uri": "https://localhost:8080/"
        },
        "outputId": "37fdbb31-aa24-4638-9772-1c22aef22e34"
      },
      "outputs": [
        {
          "output_type": "stream",
          "name": "stdout",
          "text": [
            "initP(DET) = 0.23918269230769232\n",
            "initP(PRON) = 0.096875\n",
            "initP(NOUN) = 0.27115384615384613\n",
            "initP(VERB) = 0.03774038461538461\n"
          ]
        }
      ],
      "source": [
        "sentence_start = nltk.FreqDist(sent[0][1] for sent in train)\n",
        "def initP(t):\n",
        "    return sentence_start[t] / sentence_start.N()\n",
        "print('initP(DET) =', initP('DET'))\n",
        "print('initP(PRON) =', initP('PRON'))  # he, she, it, etc.\n",
        "print('initP(NOUN) =', initP('NOUN'))\n",
        "print('initP(VERB) =', initP('VERB'))"
      ]
    },
    {
      "cell_type": "code",
      "execution_count": null,
      "metadata": {
        "id": "UyWbEGEtjbeY"
      },
      "outputs": [],
      "source": [
        "def argmax(V,tag_list,t,i):\n",
        "    ans=-1\n",
        "    best=None\n",
        "    for s in tag_list:\n",
        "        temp=V[(s,i-1)]*tagP(t,s)\n",
        "        if temp > ans:\n",
        "            ans = temp\n",
        "            best = s\n",
        "    return (best,ans)"
      ]
    },
    {
      "cell_type": "code",
      "execution_count": null,
      "metadata": {
        "id": "y6EvcWyAjbeY"
      },
      "outputs": [],
      "source": [
        "def printV(sentence,tag_list,V,B):\n",
        "    for i in range(len(sentence)):\n",
        "        print('i='+str(i)+' ['+sentence[i]+']')\n",
        "        for t in tag_list:\n",
        "            if V[(t,i)] != 0:\n",
        "                toprint='  '+t+'='+str(V[(t,i)])\n",
        "                if i>0:\n",
        "                    toprint += ' (from '+B[(t,i)]+')'\n",
        "                print(toprint)\n",
        "    "
      ]
    },
    {
      "cell_type": "code",
      "execution_count": null,
      "metadata": {
        "id": "CZ7VwD-WjbeY"
      },
      "outputs": [],
      "source": [
        "def viterbi(sentence):\n",
        "    V = dict()    # keys are (t,i) where t is a tag (row label) and i is position in sentence (column label)\n",
        "    B = dict()    # same keys as V; this stores the \"backpointers\" to remember best tag sequence\n",
        "    tag_list = sentence_start.keys()\n",
        "    for t in tag_list:\n",
        "        V[(t,0)] = initP(t)*P(sentence[0],t)\n",
        "    for i in range(1,len(sentence)):\n",
        "        for t in tag_list:\n",
        "            pair = argmax(V,tag_list,t,i)\n",
        "            B[(t,i)] = pair[0]\n",
        "            V[(t,i)] = pair[1]*P(sentence[i],t)\n",
        "    printV(sentence,tag_list,V,B)"
      ]
    },
    {
      "cell_type": "code",
      "execution_count": null,
      "metadata": {
        "scrolled": true,
        "id": "njDHpsiFjbeY"
      },
      "outputs": [],
      "source": [
        "# note how best tag for past changes to (correct) ADP when we see \"the\" at i=8\n",
        "viterbi('like one little flat near work well past the last right turn'.split())"
      ]
    },
    {
      "cell_type": "code",
      "execution_count": null,
      "metadata": {
        "scrolled": true,
        "id": "xKDB_D8RjbeY",
        "colab": {
          "base_uri": "https://localhost:8080/"
        },
        "outputId": "f92c5c1b-6d0c-4260-e248-7b1e2c93f664"
      },
      "outputs": [
        {
          "output_type": "stream",
          "name": "stdout",
          "text": [
            "i=0 [the]\n",
            "  DET=0.11747768209234376\n",
            "i=1 [beer]\n",
            "  NOUN=5.4488363100480395e-06 (from DET)\n",
            "i=2 [was]\n",
            "  VERB=3.7844556130187584e-08 (from NOUN)\n",
            "i=3 [a]\n",
            "  DET=1.228566861006549e-09 (from VERB)\n",
            "  X=4.193581415959796e-14 (from VERB)\n",
            "i=4 [little]\n",
            "  ADV=4.882420196152905e-14 (from DET)\n",
            "  ADJ=1.066779665474013e-12 (from DET)\n",
            "i=5 [flat]\n",
            "  NOUN=8.159428087793336e-17 (from ADJ)\n",
            "  ADJ=2.2489550067219224e-17 (from ADJ)\n"
          ]
        }
      ],
      "source": [
        "viterbi('the beer was a little flat'.split())"
      ]
    },
    {
      "cell_type": "code",
      "execution_count": null,
      "metadata": {
        "scrolled": true,
        "id": "3sQ9SAytjbeY"
      },
      "outputs": [],
      "source": [
        "viterbi('difficulties like high interest rates'.split())"
      ]
    },
    {
      "cell_type": "code",
      "execution_count": null,
      "metadata": {
        "id": "TBLg6eKJjbeY"
      },
      "outputs": [],
      "source": [
        "viterbi('banks like high interest rates'.split())"
      ]
    }
  ],
  "metadata": {
    "kernelspec": {
      "display_name": "Python 3",
      "language": "python",
      "name": "python3"
    },
    "language_info": {
      "codemirror_mode": {
        "name": "ipython",
        "version": 3
      },
      "file_extension": ".py",
      "mimetype": "text/x-python",
      "name": "python",
      "nbconvert_exporter": "python",
      "pygments_lexer": "ipython3",
      "version": "3.6.8"
    },
    "colab": {
      "provenance": [],
      "collapsed_sections": []
    }
  },
  "nbformat": 4,
  "nbformat_minor": 0
}